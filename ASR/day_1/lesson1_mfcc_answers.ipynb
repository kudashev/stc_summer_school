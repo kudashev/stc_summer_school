{
 "cells": [
  {
   "cell_type": "markdown",
   "metadata": {},
   "source": [
    "# Урок 1\n",
    "\n",
    "Привет. В этом уроке мы научимся извлекать MFCC признаки из аудио файла с помощью python. Для этого необходимо сделать следующее:\n",
    "\n",
    "1) Загрузить отсчеты и частоту дискретизации wav файла.<br>\n",
    "2) Посчитать MFCC признаки по полученным выше данным.<br>\n",
    "3) Записать посчитанные признаки в удобный формат.<br>"
   ]
  },
  {
   "cell_type": "code",
   "execution_count": 1,
   "metadata": {
    "collapsed": true
   },
   "outputs": [],
   "source": [
    "import numpy as np\n",
    "import scipy.io.wavfile\n",
    "from python_speech_features import mfcc\n",
    "\n",
    "wav_name = 'example.wav'\n",
    "\n",
    "# чтение отсчетов wav файла:\n",
    "s_rate, samples = scipy.io.wavfile.read(wav_name)\n",
    "\n",
    "# чтение MFCC признаков по отсчетам файла:\n",
    "features = mfcc(samples, s_rate)\n",
    "\n",
    "# запись признаков в бинарный файл example.npy:\n",
    "features_file = wav_name.split('.')[0]\n",
    "np.save(features_file, features)"
   ]
  },
  {
   "cell_type": "markdown",
   "metadata": {},
   "source": [
    "В результате мы получили бинарный файл example.npy, содержащий в себе матрицу с 13-мерными MFCC признаками аудио файла example.wav\n",
    "\n",
    "Но работать с бинарными файлами не всегда удобно. Мы будем пользоваться общепринятым ark текстовым форматом библиотеки распознавания речи KALDI, где в одном файле будут храниться признаки для всех используемых записей. Он выглядит следующим образом:\n",
    "\n",
    "file1-identifier [<br>\n",
    "vec0_0 vec0_1 vec0_2 ... vec0_12<br>\n",
    "vec1_0 vec1_1 vec1_2 ... vec1_12<br>\n",
    "....<br>\n",
    "vecN_0 vecN_1 vecN_2 ... vecN_12<br>\n",
    "]<br>\n",
    "file2-identifier [<br>\n",
    "vec0_0 vec0_1 vec0_2 ... vec0_12<br>\n",
    "vec1_0 vec1_1 vec1_2 ... vec1_12<br>\n",
    "....<br>\n",
    "vecN_0 vecN_1 vecN_2 ... vecN_12<br>\n",
    "]<br>\n",
    "\n",
    "Здесь \"file1-identifier\" – это имя файла, а \"vec0_0 vec0_1 vec0_2 ... vec0_12\" – вектор MFCC признаков первого (нулевого) кадра записи. \n",
    "<br><b>Задание 1</b>.Сохранить нашу матрицу с признаками (features) в указанном формате: "
   ]
  },
  {
   "cell_type": "code",
   "execution_count": 2,
   "metadata": {
    "collapsed": true
   },
   "outputs": [],
   "source": [
    "# запись признаков в формат ark,t:\n",
    "file_name = features_file + '.txtftr'\n",
    "\n",
    "#---------------------------TODO-----------------------------------------\n",
    "with open(file_name, 'w') as fn:\n",
    "    fn.write('{} [\\n'.format(file_name))\n",
    "    for ftr in features:\n",
    "        fn.write(str(ftr).replace('\\n', '')[1:-1] + '\\n')\n",
    "    fn.write(']')\n",
    "#------------------------------------------------------------------------    "
   ]
  },
  {
   "cell_type": "markdown",
   "metadata": {},
   "source": [
    "Для чтения признаков из такого формата мы будем использовать удобную читалку FtrFile. Функция FtrFile.FtrDirectoryReader принимает файл с признаками и возвращает имя файла и класс features, который имеет следующие атрибуты:\n",
    "\n",
    "- nSamples – количество векторов в фале;<br>\n",
    "- nDim – размерность вектора признаков;<br>\n",
    "- readvec() – возвращает очередной вектор признаков;<br>\n",
    "- getall() – возвращает все признаки текущего файла.<br>\n",
    "\n",
    "Также, для ее работы необходимо добавлять префикс 'ark,t:' к названию файла с признаками.\n",
    "\n",
    "Попробуем с ее помощью прочитать наш example.txtftr:"
   ]
  },
  {
   "cell_type": "code",
   "execution_count": 3,
   "metadata": {},
   "outputs": [
    {
     "name": "stdout",
     "output_type": "stream",
     "text": [
      "имя файла: example.txtftr\n",
      "количество векторов в файле: 361\n",
      "размерность вектора признаков: 13\n",
      "вектор признаков первого кадра: [  7.30046368 -15.96167278 -12.18360806  -1.89521074  -2.60937214\n",
      "   4.60660887  -4.33287382   1.52098656 -18.3515892   -2.31159902\n",
      "  -8.2139082    6.16862965  -1.04032767]\n"
     ]
    }
   ],
   "source": [
    "import FtrFile\n",
    "\n",
    "ark_file = 'ark,t:' + file_name\n",
    "for fileName, features in FtrFile.FtrDirectoryReader(ark_file):\n",
    "    print('имя файла: {}'.format(fileName))\n",
    "    print('количество векторов в файле: {}'.format(features.nSamples))\n",
    "    print('размерность вектора признаков: {}'.format(features.nDim))\n",
    "    print('вектор признаков первого кадра: {}'.format(features.readvec()))"
   ]
  },
  {
   "cell_type": "markdown",
   "metadata": {},
   "source": [
    "Для работы с признаками удобно делать цикл по количеству векторов в файле и в нем уже вызывать features.readvec() для получения признаков текущего кадра. Этим мы займемся в следующем уроке."
   ]
  },
  {
   "cell_type": "code",
   "execution_count": null,
   "metadata": {
    "collapsed": true
   },
   "outputs": [],
   "source": []
  }
 ],
 "metadata": {
  "kernelspec": {
   "display_name": "Python 3",
   "language": "python",
   "name": "python3"
  },
  "language_info": {
   "codemirror_mode": {
    "name": "ipython",
    "version": 3
   },
   "file_extension": ".py",
   "mimetype": "text/x-python",
   "name": "python",
   "nbconvert_exporter": "python",
   "pygments_lexer": "ipython3",
   "version": "3.5.2"
  }
 },
 "nbformat": 4,
 "nbformat_minor": 2
}
