{
 "cells": [
  {
   "cell_type": "code",
   "execution_count": 7,
   "metadata": {
    "collapsed": true
   },
   "outputs": [],
   "source": [
    "import os\n",
    "import numpy as np\n",
    "import skimage\n",
    "from skimage import io\n",
    "from skimage import color\n",
    "from skimage import transform\n",
    "\n",
    "from random import shuffle\n",
    "\n",
    "import matplotlib.pyplot as plt \n",
    "import io\n",
    "import pickle\n",
    "import threading\n",
    "%matplotlib inline"
   ]
  },
  {
   "cell_type": "markdown",
   "metadata": {},
   "source": [
    "Цель данной работы - получить базовые навыки обработки изображений и видео.\n",
    "\n",
    "Входные данные представляют собой набор видео. Каждое видео представлено в виде отдельной директории, хранящей последовательность кадров видео в формате JPEG [NNNN].jpg + файл timestamp.txt, хранящий информацию о временных метках (в мс) каждого кадра. Директория видео имеет следующий формат: [person ID]\\_[session ID]\\_[phrase ID]\\_\\*, где [phrase ID] состоит из цифр, произнесенных пользователем.\n",
    "\n",
    "Для каждого кадра имеется файл [].landmarks, хранящий координаты характеристических точек в соотстветвии с рисунком:\n",
    "![title](img/figure_68_markup.jpg)\n"
   ]
  },
  {
   "cell_type": "code",
   "execution_count": 25,
   "metadata": {
    "collapsed": true
   },
   "outputs": [],
   "source": [
    "# Функция загрузки временных меток видео\n",
    "def read_timestamps(timestamps_filename):\n",
    "    timestamps = []\n",
    "    if not os.path.isfile(timestamps_filename):\n",
    "        print(\"WARNING! can't open timestamps file: \" + timestamps_filename)\n",
    "        return []\n",
    "    timestamps_lines = [l.strip() for l in open(timestamps_filename).readlines()]\n",
    "    timestamps_raw = []\n",
    "    for l in timestamps_lines:\n",
    "        timestamps_raw = timestamps_raw + l.split(' ')\n",
    "    if len(timestamps_raw) % 2 != 0:\n",
    "        print(\"WARNING! can't parse timestamps file: \" + timestamps_filename)\n",
    "        return []\n",
    "    for i in range(0, int(len(timestamps_raw)/2)):\n",
    "        if ':' not in timestamps_raw[i*2]:\n",
    "            print(\"WARNING! can't parse timestamps file: \" + timestamps_filename + \", ts: \" + timestamps_raw[i*2])\n",
    "            return []\n",
    "        timestamps.append([timestamps_raw[i*2].split(':')[0], float(timestamps_raw[i*2 + 1])])\n",
    "    return timestamps"
   ]
  },
  {
   "cell_type": "code",
   "execution_count": 26,
   "metadata": {
    "collapsed": true
   },
   "outputs": [],
   "source": [
    "# Функция загрузки разметки характеристических точек лица\n",
    "def read_landmarks(landmarks_filename):\n",
    "    if not os.path.isfile(landmarks_filename):\n",
    "        print(\"WARNING! can't open timestamps file: \" + landmarks_filename)\n",
    "        return np.array([])\n",
    "    landmarks = [[float(l.split('\\t')[0]), float(l.split('\\t')[1])] for l in open(landmarks_filename).readlines()]\n",
    "    return np.array(landmarks)"
   ]
  },
  {
   "cell_type": "markdown",
   "metadata": {},
   "source": [
    "<b>Задание 1.</b> Прочитать любую картинку + landmarks из любого видео при помощи skimage и отрисовать при помощи matplotlib"
   ]
  },
  {
   "cell_type": "code",
   "execution_count": 21,
   "metadata": {},
   "outputs": [],
   "source": [
    "work_dir = \"data/\"\n",
    "video_dir =  work_dir + \"0_raw_video/\"\n",
    "\n",
    "#------ TODO ---------------\n",
    "\n",
    "#---------------------------"
   ]
  },
  {
   "cell_type": "markdown",
   "metadata": {},
   "source": [
    "<b>Задание 2.</b> Провести следующую цепочку преобразований для видео:\n",
    "\n",
    "- Прочитать изображения в черно-белом формате\n",
    "- Повернуть изображение так, чтобы глаза находились строго горизонтально\n",
    "- Вырезать область губ с разрешением 100x60\n",
    "- Оставить только landmarks с координатами губ и привести их в соответствие с вырезанным изображением\n"
   ]
  },
  {
   "cell_type": "code",
   "execution_count": 22,
   "metadata": {
    "collapsed": true
   },
   "outputs": [],
   "source": [
    "def process_sessions(sessions, results_data_path):\n",
    "    \n",
    "    for session in sessions:\n",
    "        timestamps = read_timestamps(session + \"/timestamp.txt\")\n",
    "\n",
    "        image_shape = np.array([100, 60])\n",
    "        landmarks_num = 68\n",
    "        landmarks_mouth_num = 20\n",
    "\n",
    "        data_img = np.zeros([len(timestamps), image_shape[0], image_shape[1]], dtype=np.float32)\n",
    "        data_lm =  np.zeros([len(timestamps), landmarks_mouth_num, 2], dtype=np.float32)\n",
    "        data_ts =  np.zeros([len(timestamps)], dtype=np.float32)\n",
    "        frames = []\n",
    "\n",
    "        \n",
    "\n",
    "        session_name = session[session.rfind('/')+1:]\n",
    "        print (\"PROCESS: \" + session_name)\n",
    "\n",
    "        \n",
    "        dist_eyes_0 = 1\n",
    "        crop_width_0 = 1\n",
    "        max_time = 0\n",
    "        counter = 0\n",
    "        \n",
    "        try:\n",
    "            for frame, time in timestamps:\n",
    "                if time <= max_time:\n",
    "                    continue\n",
    "                max_time = time\n",
    "                image_filename = session + \"/\" + frame + \".jpg\"\n",
    "                if not os.path.isfile(image_filename):\n",
    "                    image_filename = session + \"/\" + frame + \".jpeg\"\n",
    "                if not os.path.isfile(image_filename):\n",
    "                    continue\n",
    "\n",
    "                lm = read_landmarks(image_filename + \".landmarks\")\n",
    "                if (lm.shape[0] != landmarks_num):\n",
    "                    continue\n",
    "                \n",
    "                # ------ TODO ---------------------------\n",
    "                # 1. Прочитать изображение\n",
    "                # 2. Повернуть\n",
    "                # 3. Вырезать изображение рта         \n",
    "                # 4. Оставить 20 landmarks изображения рта\n",
    "                # 5. Сохранить в соответствующие массивы:\n",
    "                #    data_img[counter,:,:] = \n",
    "                #    data_lm[counter,:,:] = (lm[48:68,:] - crop_bound[0]) * scale_factor\n",
    "                #    data_ts[counter] = time\n",
    "                # ---------------------------------------\n",
    "                image_gray = skimage.io.imread(image_filename, as_grey=True)\n",
    "                #print(image_gray.dtype)\n",
    "\n",
    "                crop_coeff = 100./60.\n",
    "\n",
    "                mean_image = np.array([image_gray.shape[1]/2, image_gray.shape[0]/2])\n",
    "\n",
    "                #calculate rotation angel\n",
    "                mean_left_eye = np.mean(lm[36:42,:], axis=0)\n",
    "                mean_right_eye = np.mean(lm[42:48,:], axis=0)\n",
    "                dist_eye = np.sqrt(np.sum((mean_right_eye - mean_left_eye) ** 2))\n",
    "                dist_mouth = np.sqrt(np.sum((lm[48,:] - lm[54,:]) ** 2))\n",
    "\n",
    "                if (counter == 0):\n",
    "                    dist_eyes_0 = dist_eye\n",
    "                    crop_width_0 = dist_mouth * crop_coeff\n",
    "\n",
    "                crop_width = crop_width_0 * (dist_eye / dist_eyes_0)\n",
    "                crop_height = crop_width * (image_shape[1] / image_shape[0])\n",
    "\n",
    "\n",
    "                # rotate\n",
    "                rotate_angel_rad = -np.arccos((mean_right_eye - mean_left_eye)[0]/dist_eye)\n",
    "                rotate_angel = 180 * (rotate_angel_rad / np.pi)\n",
    "                rotate_matrix = np.array([[np.cos(rotate_angel_rad), -np.sin(rotate_angel_rad)],\n",
    "                                          [np.sin(rotate_angel_rad), np.cos(rotate_angel_rad)]])\n",
    "                lm = np.matmul(lm - mean_image, rotate_matrix) + mean_image\n",
    "                image_gray = skimage.transform.rotate(image_gray, rotate_angel)\n",
    "\n",
    "                lm_mouth_mean = np.mean(lm[48:68,:], axis=0)\n",
    "\n",
    "                # crop\n",
    "                crop_bound =np.array([[ int(lm_mouth_mean[0] - crop_width * 0.5), int(lm_mouth_mean[1] - crop_height * 0.5) ],\n",
    "                                      [ int(lm_mouth_mean[0] + crop_width * 0.5), int(lm_mouth_mean[1] + crop_height * 0.5) ]])\n",
    "\n",
    "                \n",
    "                data_img[counter,:,:] = skimage.transform.resize(image_gray[crop_bound[0][1]:crop_bound[1][1], crop_bound[0][0]:crop_bound[1][0]], [image_shape[1],image_shape[0]], mode='constant').transpose()\n",
    "                scale_factor = np.array([image_shape[0]/float(crop_bound[1][0] - crop_bound[0][0]), image_shape[1]/float(crop_bound[1][1] - crop_bound[0][1])])\n",
    "                data_lm[counter,:,:] = (lm[48:68,:] - crop_bound[0]) * scale_factor\n",
    "                data_ts[counter] = time\n",
    "\n",
    "                #lm_indices = data_lm[counter,:,:].astype(dtype=np.int32)\n",
    "                #for indx in lm_indices:\n",
    "                #    data_img[counter, indx[0]-1:indx[0]+1, indx[1]-1:indx[1]+1] = 0\n",
    "                #plt.imshow(image_gray[crop_bound[0][1]:crop_bound[1][1], crop_bound[0][0]:crop_bound[1][0]], cmap='gray')\n",
    "                #plt.imshow(data_img[counter,:,:].transpose(), cmap='gray')\n",
    "                \n",
    "                \n",
    "                frames.append(frame)\n",
    "                counter = counter + 1\n",
    "               \n",
    "            data_img = np.resize(data_img, [counter, image_shape[0], image_shape[1]])\n",
    "            data_lm =  np.resize(data_lm,  [counter, landmarks_mouth_num, 2])\n",
    "            data_ts =  np.resize(data_ts,  [counter, 1])\n",
    "            \n",
    "            # сохраняем данные в бинарный файл при помощи библиотеки pickle\n",
    "            with open(results_data_path + session_name + \".pickle\", \"wb\") as f:\n",
    "                pickle.dump(data_img, f)\n",
    "                pickle.dump(data_lm, f)\n",
    "                pickle.dump(data_ts, f)\n",
    "                pickle.dump(frames, f)\n",
    "        except:\n",
    "            print (\"ERROR! can't process session: \" + session_name)"
   ]
  },
  {
   "cell_type": "markdown",
   "metadata": {},
   "source": [
    "Обработаем все видео"
   ]
  },
  {
   "cell_type": "code",
   "execution_count": 27,
   "metadata": {},
   "outputs": [
    {
     "name": "stdout",
     "output_type": "stream",
     "text": [
      "PROCESS: F0014_02_17538_Android_htc (id: 277904)\n",
      "PROCESS: F0224_02_73981_Android_SM (id: 277904)\n",
      "PROCESS: F0248_01_08493_iPhone_6S (id: 277904)\n",
      "PROCESS: F0308_02_5329084671_Android_SM (id: 277904)\n",
      "PROCESS: F037_02_42365_iPhone_iphone6 (id: 277904)\n",
      "PROCESS: M0284_01_17263_Android_SM (id: 277904)\n",
      "PROCESS: M0562_01_1209674835_iPhone_6S (id: 277904)\n",
      "PROCESS: M0567_01_2793086514_Android_SM (id: 277904)\n",
      "PROCESS: M0602_01_40792_iPhone_6S (id: 277904)\n"
     ]
    }
   ],
   "source": [
    "results_data_path = work_dir + \"1_video_lips/\"\n",
    "#os.system(\"mkdir \" + results_data_path)\n",
    "sessions = [(video_dir + d) for d in os.listdir(video_dir)]\n",
    "\n",
    "process_sessions(sessions, results_data_path)\n"
   ]
  },
  {
   "cell_type": "markdown",
   "metadata": {},
   "source": [
    "Проветим корректность полученных данных"
   ]
  },
  {
   "cell_type": "code",
   "execution_count": 29,
   "metadata": {},
   "outputs": [
    {
     "name": "stdout",
     "output_type": "stream",
     "text": [
      "float32\n",
      "(124, 1)\n",
      "[ 1840.]\n",
      "0055\n"
     ]
    },
    {
     "name": "stderr",
     "output_type": "stream",
     "text": [
      "C:\\ProgramData\\Anaconda3\\lib\\site-packages\\skimage\\util\\dtype.py:122: UserWarning: Possible precision loss when converting from float32 to uint16\n",
      "  .format(dtypeobj_in, dtypeobj_out))\n"
     ]
    },
    {
     "data": {
      "image/png": "[encoded data removed]",
      "text/plain": [
       "<matplotlib.figure.Figure at 0xaa6e3fd358>"
      ]
     },
     "metadata": {},
     "output_type": "display_data"
    }
   ],
   "source": [
    "with open(results_data_path + \"F0248_01_08493_iPhone_6S.pickle\", \"rb\") as f:\n",
    "    data_img_test = pickle.load(f)\n",
    "    data_lm_test = pickle.load(f)\n",
    "    data_ts_test = pickle.load(f)\n",
    "    frames_test = pickle.load(f)\n",
    "\n",
    "index = 55\n",
    "plt.imshow(data_img_test[index,:,:].transpose(), cmap='gray')\n",
    "print(data_img_test.dtype)\n",
    "print(data_ts_test.shape)\n",
    "print(data_ts_test[index])\n",
    "print(frames_test[index])\n",
    "debug_path = work_dir + \"debug/\"\n",
    "\n",
    "lm_indices = data_lm_test.astype(dtype=np.int32)\n",
    "for i in range(0, len(frames_test)):\n",
    "    for indx in lm_indices[i,:,:]:\n",
    "        data_img_test[i, indx[0]-2:indx[0]+2, indx[1]-2:indx[1]+1] = 0\n",
    "    skimage.io.imsave(debug_path + frames_test[i] + \".png\", data_img_test[i,:,:].transpose())"
   ]
  },
  {
   "cell_type": "code",
   "execution_count": null,
   "metadata": {},
   "outputs": [],
   "source": []
  },
  {
   "cell_type": "code",
   "execution_count": null,
   "metadata": {},
   "outputs": [],
   "source": []
  }
 ],
 "metadata": {
  "kernelspec": {
   "display_name": "Python 3",
   "language": "python",
   "name": "python3"
  },
  "language_info": {
   "codemirror_mode": {
    "name": "ipython",
    "version": 3
   },
   "file_extension": ".py",
   "mimetype": "text/x-python",
   "name": "python",
   "nbconvert_exporter": "python",
   "pygments_lexer": "ipython3",
   "version": "3.6.1"
  }
 },
 "nbformat": 4,
 "nbformat_minor": 2
}
